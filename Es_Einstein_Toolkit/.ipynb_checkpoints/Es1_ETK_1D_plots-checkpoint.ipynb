{
 "cells": [
  {
   "cell_type": "markdown",
   "metadata": {},
   "source": [
    "# Riemann Problem"
   ]
  },
  {
   "cell_type": "code",
   "execution_count": 1,
   "metadata": {},
   "outputs": [],
   "source": [
    "import matplotlib.pyplot as plt\n",
    "import numpy as np\n",
    "from kuibit.simdir import SimDir\n",
    "from kuibit.grid_data import UniformGrid"
   ]
  },
  {
   "cell_type": "markdown",
   "metadata": {},
   "source": [
    "## Exact Solution"
   ]
  },
  {
   "cell_type": "code",
   "execution_count": 2,
   "metadata": {},
   "outputs": [],
   "source": [
    "#initial data from the Exact Riemann solver of https://www.brunogiacomazzo.org/?page_id=395\n",
    "exact = np.loadtxt(\"Sod_exact.dat\")"
   ]
  },
  {
   "cell_type": "code",
   "execution_count": 3,
   "metadata": {},
   "outputs": [],
   "source": [
    "x_exact=exact[:,0]\n",
    "rho_exact=exact[:,1]\n",
    "press_exact=exact[:,2] #note: this is pgas+pmag\n",
    "vx_exact=exact[:,3]\n",
    "vy_exact=exact[:,4]\n",
    "vz_exact=exact[:,5]\n",
    "By_exact=exact[:,6]\n",
    "Bz_exact=exact[:,7]"
   ]
  },
  {
   "cell_type": "code",
   "execution_count": 4,
   "metadata": {},
   "outputs": [
    {
     "data": {
      "text/plain": [
       "array([1.   , 1.   , 1.   , ..., 0.125, 0.125, 0.125])"
      ]
     },
     "execution_count": 4,
     "metadata": {},
     "output_type": "execute_result"
    }
   ],
   "source": [
    "rho_exact"
   ]
  },
  {
   "cell_type": "code",
   "execution_count": 5,
   "metadata": {},
   "outputs": [
    {
     "data": {
      "image/png": "[encoded data removed]",
      "text/plain": [
       "<Figure size 640x480 with 1 Axes>"
      ]
     },
     "metadata": {},
     "output_type": "display_data"
    }
   ],
   "source": [
    "plt.plot(x_exact.tolist(), rho_exact.tolist(), label=\"exact\")\n",
    "plt.xlim(-0.5, 0.5)\n",
    "plt.legend()\n",
    "plt.show()"
   ]
  },
  {
   "cell_type": "markdown",
   "metadata": {},
   "source": [
    "## Read the Numerical Results"
   ]
  },
  {
   "cell_type": "code",
   "execution_count": 6,
   "metadata": {},
   "outputs": [
    {
     "name": "stdout",
     "output_type": "stream",
     "text": [
      "\n",
      "Available grid data of dimension 1D (x): \n",
      "['tau', 'vel[2]', 'vel[0]', 'eps', 'w_lorentz', 'press', 'scon[2]', 'scon[1]', 'rho', 'scon[0]', 'dens', 'vel[1]']\n",
      "\n",
      "\n",
      "Available grid data of dimension 1D (y): \n",
      "['vel[2]', 'w_lorentz', 'scon[2]', 'rho', 'dens', 'scon[1]', 'vel[1]', 'tau', 'eps', 'vel[0]', 'scon[0]', 'press']\n",
      "\n",
      "\n",
      "Available grid data of dimension 1D (z): \n",
      "['vel[0]', 'vel[1]', 'tau', 'vel[2]', 'press', 'rho', 'scon[1]', 'scon[2]', 'scon[0]', 'eps', 'w_lorentz', 'dens']\n",
      "\n",
      "\n",
      "Available grid data of dimension 2D (xy): \n",
      "[]\n",
      "\n",
      "\n",
      "Available grid data of dimension 2D (xz): \n",
      "[]\n",
      "\n",
      "\n",
      "Available grid data of dimension 2D (yz): \n",
      "[]\n",
      "\n",
      "\n",
      "Available grid data of dimension 3D (xyz): \n",
      "[]\n",
      "\n"
     ]
    }
   ],
   "source": [
    "gf= SimDir(\"./\").gf\n",
    "print(gf)"
   ]
  },
  {
   "cell_type": "code",
   "execution_count": 7,
   "metadata": {},
   "outputs": [
    {
     "name": "stdout",
     "output_type": "stream",
     "text": [
      "\n",
      "Available grid data of dimension 1D (x): \n",
      "['tau', 'vel[2]', 'vel[0]', 'eps', 'w_lorentz', 'press', 'scon[2]', 'scon[1]', 'rho', 'scon[0]', 'dens', 'vel[1]']\n",
      "\n"
     ]
    }
   ],
   "source": [
    "vars1d=gf.x\n",
    "print(vars1d)"
   ]
  },
  {
   "cell_type": "code",
   "execution_count": 8,
   "metadata": {},
   "outputs": [],
   "source": [
    "rho=vars1d.fields.rho"
   ]
  },
  {
   "cell_type": "markdown",
   "metadata": {},
   "source": [
    "## Kuibit Standard Methods for Plots\n",
    "\n",
    "We create a uniform grid and plot the data on it. Kuibit indeed assumes that data were produced on a grid with several meshes (AMR). In our case the grid was already uniform, so later we will see an alternative way to plot the data without interpolating them on a new grid."
   ]
  },
  {
   "cell_type": "code",
   "execution_count": 9,
   "metadata": {},
   "outputs": [],
   "source": [
    "small_grid = UniformGrid([101], x0=[-0.45], x1=[0.45])"
   ]
  },
  {
   "cell_type": "code",
   "execution_count": 10,
   "metadata": {},
   "outputs": [
    {
     "name": "stdout",
     "output_type": "stream",
     "text": [
      "[0, 10, 20, 30, 40, 50, 60, 70, 80, 90, 100, 110, 120, 130, 140, 150, 160, 170, 180, 190, 200]\n"
     ]
    }
   ],
   "source": [
    "print(rho.iterations)"
   ]
  },
  {
   "cell_type": "code",
   "execution_count": 11,
   "metadata": {},
   "outputs": [
    {
     "ename": "FileNotFoundError",
     "evalue": "[Errno 2] Unable to synchronously open file (unable to open file: name = '/home/ludovicarbone/numerical-relativity/Einstein_Toolkit_Tutorials/Sod_1d_400/rho.x.h5', errno = 2, error message = 'No such file or directory', flags = 0, o_flags = 0)",
     "output_type": "error",
     "traceback": [
      "\u001b[0;31m---------------------------------------------------------------------------\u001b[0m",
      "\u001b[0;31mFileNotFoundError\u001b[0m                         Traceback (most recent call last)",
      "Cell \u001b[0;32mIn[11], line 1\u001b[0m\n\u001b[0;32m----> 1\u001b[0m rho_final \u001b[38;5;241m=\u001b[39m \u001b[43mrho\u001b[49m\u001b[38;5;241;43m.\u001b[39;49m\u001b[43mread_on_grid\u001b[49m\u001b[43m(\u001b[49m\u001b[38;5;241;43m200\u001b[39;49m\u001b[43m,\u001b[49m\u001b[43m \u001b[49m\u001b[43msmall_grid\u001b[49m\u001b[43m)\u001b[49m\n",
      "File \u001b[0;32m~/num_rel_env/lib/python3.10/site-packages/kuibit/cactus_grid_functions.py:530\u001b[0m, in \u001b[0;36mBaseOneGridFunction.read_on_grid\u001b[0;34m(self, iteration, grid, resample)\u001b[0m\n\u001b[1;32m    518\u001b[0m \u001b[38;5;28;01mdef\u001b[39;00m\u001b[38;5;250m \u001b[39m\u001b[38;5;21mread_on_grid\u001b[39m(\u001b[38;5;28mself\u001b[39m, iteration, grid, resample\u001b[38;5;241m=\u001b[39m\u001b[38;5;28;01mFalse\u001b[39;00m):\n\u001b[1;32m    519\u001b[0m \u001b[38;5;250m    \u001b[39m\u001b[38;5;124;03m\"\"\"Read an iteration and resample the output on the specified grid.\u001b[39;00m\n\u001b[1;32m    520\u001b[0m \n\u001b[1;32m    521\u001b[0m \u001b[38;5;124;03m    Warning: this can be computationally expensive!\u001b[39;00m\n\u001b[0;32m   (...)\u001b[0m\n\u001b[1;32m    528\u001b[0m \u001b[38;5;124;03m    :type resample: bool\u001b[39;00m\n\u001b[1;32m    529\u001b[0m \u001b[38;5;124;03m    \"\"\"\u001b[39;00m\n\u001b[0;32m--> 530\u001b[0m     \u001b[38;5;28;01mreturn\u001b[39;00m \u001b[38;5;28;43mself\u001b[39;49m\u001b[43m[\u001b[49m\u001b[43miteration\u001b[49m\u001b[43m]\u001b[49m\u001b[38;5;241m.\u001b[39mto_UniformGridData_from_grid(\n\u001b[1;32m    531\u001b[0m         grid, resample\u001b[38;5;241m=\u001b[39mresample\n\u001b[1;32m    532\u001b[0m     )\n",
      "File \u001b[0;32m~/num_rel_env/lib/python3.10/site-packages/kuibit/cactus_grid_functions.py:516\u001b[0m, in \u001b[0;36mBaseOneGridFunction.__getitem__\u001b[0;34m(self, iteration)\u001b[0m\n\u001b[1;32m    513\u001b[0m \u001b[38;5;28;01mif\u001b[39;00m iteration \u001b[38;5;129;01mnot\u001b[39;00m \u001b[38;5;129;01min\u001b[39;00m \u001b[38;5;28mself\u001b[39m\u001b[38;5;241m.\u001b[39mavailable_iterations:\n\u001b[1;32m    514\u001b[0m     \u001b[38;5;28;01mraise\u001b[39;00m \u001b[38;5;167;01mKeyError\u001b[39;00m(\u001b[38;5;124mf\u001b[39m\u001b[38;5;124m\"\u001b[39m\u001b[38;5;124mIteration \u001b[39m\u001b[38;5;132;01m{\u001b[39;00miteration\u001b[38;5;132;01m}\u001b[39;00m\u001b[38;5;124m not present\u001b[39m\u001b[38;5;124m\"\u001b[39m)\n\u001b[0;32m--> 516\u001b[0m \u001b[38;5;28;01mreturn\u001b[39;00m \u001b[38;5;28;43mself\u001b[39;49m\u001b[38;5;241;43m.\u001b[39;49m\u001b[43m_read_iteration_as_HierarchicalGridData\u001b[49m\u001b[43m(\u001b[49m\u001b[43miteration\u001b[49m\u001b[43m)\u001b[49m\n",
      "File \u001b[0;32m~/num_rel_env/lib/python3.10/site-packages/kuibit/cactus_grid_functions.py:464\u001b[0m, in \u001b[0;36mBaseOneGridFunction._read_iteration_as_HierarchicalGridData\u001b[0;34m(self, iteration)\u001b[0m\n\u001b[1;32m    459\u001b[0m     \u001b[38;5;28;01mfor\u001b[39;00m ref_level \u001b[38;5;129;01min\u001b[39;00m \u001b[38;5;28mself\u001b[39m\u001b[38;5;241m.\u001b[39m_ref_levels_in_file(path, iteration):\n\u001b[1;32m    460\u001b[0m         \u001b[38;5;28;01mfor\u001b[39;00m comp \u001b[38;5;129;01min\u001b[39;00m \u001b[38;5;28mself\u001b[39m\u001b[38;5;241m.\u001b[39m_components_in_file(\n\u001b[1;32m    461\u001b[0m             path, iteration, ref_level\n\u001b[1;32m    462\u001b[0m         ):\n\u001b[1;32m    463\u001b[0m             uniform_grid_data_components\u001b[38;5;241m.\u001b[39mappend(\n\u001b[0;32m--> 464\u001b[0m                 \u001b[38;5;28;43mself\u001b[39;49m\u001b[38;5;241;43m.\u001b[39;49m\u001b[43m_read_component_as_uniform_grid_data\u001b[49m\u001b[43m(\u001b[49m\n\u001b[1;32m    465\u001b[0m \u001b[43m                    \u001b[49m\u001b[43mpath\u001b[49m\u001b[43m,\u001b[49m\u001b[43m \u001b[49m\u001b[43miteration\u001b[49m\u001b[43m,\u001b[49m\u001b[43m \u001b[49m\u001b[43mref_level\u001b[49m\u001b[43m,\u001b[49m\u001b[43m \u001b[49m\u001b[43mcomp\u001b[49m\n\u001b[1;32m    466\u001b[0m \u001b[43m                \u001b[49m\u001b[43m)\u001b[49m\n\u001b[1;32m    467\u001b[0m             )\n\u001b[1;32m    469\u001b[0m \u001b[38;5;28;01mreturn\u001b[39;00m (\n\u001b[1;32m    470\u001b[0m     grid_data\u001b[38;5;241m.\u001b[39mHierarchicalGridData(uniform_grid_data_components)\n\u001b[1;32m    471\u001b[0m     \u001b[38;5;28;01mif\u001b[39;00m uniform_grid_data_components\n\u001b[1;32m    472\u001b[0m     \u001b[38;5;28;01melse\u001b[39;00m \u001b[38;5;28;01mNone\u001b[39;00m\n\u001b[1;32m    473\u001b[0m )\n",
      "File \u001b[0;32m~/num_rel_env/lib/python3.10/site-packages/kuibit/cactus_grid_functions.py:1162\u001b[0m, in \u001b[0;36mOneGridFunctionH5._read_component_as_uniform_grid_data\u001b[0;34m(self, path, iteration, ref_level, component)\u001b[0m\n\u001b[1;32m   1145\u001b[0m \u001b[38;5;250m\u001b[39m\u001b[38;5;124;03m\"\"\"Return the component at the given iteration, refinement level, and component.\u001b[39;00m\n\u001b[1;32m   1146\u001b[0m \n\u001b[1;32m   1147\u001b[0m \u001b[38;5;124;03m:param path: Path of the file.\u001b[39;00m\n\u001b[0;32m   (...)\u001b[0m\n\u001b[1;32m   1158\u001b[0m \n\u001b[1;32m   1159\u001b[0m \u001b[38;5;124;03m\"\"\"\u001b[39;00m\n\u001b[1;32m   1161\u001b[0m \u001b[38;5;28;01mif\u001b[39;00m \u001b[38;5;28mself\u001b[39m\u001b[38;5;241m.\u001b[39malldata[path][iteration][ref_level][component] \u001b[38;5;129;01mis\u001b[39;00m \u001b[38;5;28;01mNone\u001b[39;00m:\n\u001b[0;32m-> 1162\u001b[0m     \u001b[38;5;28;01mwith\u001b[39;00m \u001b[38;5;28mself\u001b[39m\u001b[38;5;241m.\u001b[39m_get_dataset(\n\u001b[1;32m   1163\u001b[0m         path, iteration, ref_level, component\n\u001b[1;32m   1164\u001b[0m     ) \u001b[38;5;28;01mas\u001b[39;00m dataset:\n\u001b[1;32m   1165\u001b[0m         grid \u001b[38;5;241m=\u001b[39m \u001b[38;5;28mself\u001b[39m\u001b[38;5;241m.\u001b[39m_grid_from_dataset(\n\u001b[1;32m   1166\u001b[0m             dataset, iteration, ref_level, component\n\u001b[1;32m   1167\u001b[0m         )\n\u001b[1;32m   1168\u001b[0m         data \u001b[38;5;241m=\u001b[39m np\u001b[38;5;241m.\u001b[39mtranspose(dataset[()])\n",
      "File \u001b[0;32m/usr/lib/python3.10/contextlib.py:135\u001b[0m, in \u001b[0;36m_GeneratorContextManager.__enter__\u001b[0;34m(self)\u001b[0m\n\u001b[1;32m    133\u001b[0m \u001b[38;5;28;01mdel\u001b[39;00m \u001b[38;5;28mself\u001b[39m\u001b[38;5;241m.\u001b[39margs, \u001b[38;5;28mself\u001b[39m\u001b[38;5;241m.\u001b[39mkwds, \u001b[38;5;28mself\u001b[39m\u001b[38;5;241m.\u001b[39mfunc\n\u001b[1;32m    134\u001b[0m \u001b[38;5;28;01mtry\u001b[39;00m:\n\u001b[0;32m--> 135\u001b[0m     \u001b[38;5;28;01mreturn\u001b[39;00m \u001b[38;5;28;43mnext\u001b[39;49m\u001b[43m(\u001b[49m\u001b[38;5;28;43mself\u001b[39;49m\u001b[38;5;241;43m.\u001b[39;49m\u001b[43mgen\u001b[49m\u001b[43m)\u001b[49m\n\u001b[1;32m    136\u001b[0m \u001b[38;5;28;01mexcept\u001b[39;00m \u001b[38;5;167;01mStopIteration\u001b[39;00m:\n\u001b[1;32m    137\u001b[0m     \u001b[38;5;28;01mraise\u001b[39;00m \u001b[38;5;167;01mRuntimeError\u001b[39;00m(\u001b[38;5;124m\"\u001b[39m\u001b[38;5;124mgenerator didn\u001b[39m\u001b[38;5;124m'\u001b[39m\u001b[38;5;124mt yield\u001b[39m\u001b[38;5;124m\"\u001b[39m) \u001b[38;5;28;01mfrom\u001b[39;00m\u001b[38;5;250m \u001b[39m\u001b[38;5;28;01mNone\u001b[39;00m\n",
      "File \u001b[0;32m~/num_rel_env/lib/python3.10/site-packages/kuibit/cactus_grid_functions.py:1129\u001b[0m, in \u001b[0;36mOneGridFunctionH5._get_dataset\u001b[0;34m(self, path, iteration, ref_level, component)\u001b[0m\n\u001b[1;32m   1127\u001b[0m component_str \u001b[38;5;241m=\u001b[39m \u001b[38;5;124mf\u001b[39m\u001b[38;5;124m\"\u001b[39m\u001b[38;5;124m c=\u001b[39m\u001b[38;5;132;01m{\u001b[39;00mcomponent\u001b[38;5;132;01m}\u001b[39;00m\u001b[38;5;124m\"\u001b[39m \u001b[38;5;28;01mif\u001b[39;00m (component \u001b[38;5;241m>\u001b[39m\u001b[38;5;241m=\u001b[39m \u001b[38;5;241m0\u001b[39m) \u001b[38;5;28;01melse\u001b[39;00m \u001b[38;5;124m\"\u001b[39m\u001b[38;5;124m\"\u001b[39m\n\u001b[1;32m   1128\u001b[0m \u001b[38;5;28;01mtry\u001b[39;00m:\n\u001b[0;32m-> 1129\u001b[0m     \u001b[38;5;28;01mwith\u001b[39;00m \u001b[43mh5py\u001b[49m\u001b[38;5;241;43m.\u001b[39;49m\u001b[43mFile\u001b[49m\u001b[43m(\u001b[49m\u001b[43mpath\u001b[49m\u001b[43m,\u001b[49m\u001b[43m \u001b[49m\u001b[38;5;124;43m\"\u001b[39;49m\u001b[38;5;124;43mr\u001b[39;49m\u001b[38;5;124;43m\"\u001b[39;49m\u001b[43m)\u001b[49m \u001b[38;5;28;01mas\u001b[39;00m f:\n\u001b[1;32m   1130\u001b[0m         \u001b[38;5;28;01mtry\u001b[39;00m:\n\u001b[1;32m   1131\u001b[0m             \u001b[38;5;28;01myield\u001b[39;00m f[\n\u001b[1;32m   1132\u001b[0m                 \u001b[38;5;28mself\u001b[39m\u001b[38;5;241m.\u001b[39mdataset_format\n\u001b[1;32m   1133\u001b[0m                 \u001b[38;5;241m%\u001b[39m (iteration, ref_level_str, component_str)\n\u001b[1;32m   1134\u001b[0m             ]\n",
      "File \u001b[0;32m~/num_rel_env/lib/python3.10/site-packages/h5py/_hl/files.py:564\u001b[0m, in \u001b[0;36mFile.__init__\u001b[0;34m(self, name, mode, driver, libver, userblock_size, swmr, rdcc_nslots, rdcc_nbytes, rdcc_w0, track_order, fs_strategy, fs_persist, fs_threshold, fs_page_size, page_buf_size, min_meta_keep, min_raw_keep, locking, alignment_threshold, alignment_interval, meta_block_size, **kwds)\u001b[0m\n\u001b[1;32m    555\u001b[0m     fapl \u001b[38;5;241m=\u001b[39m make_fapl(driver, libver, rdcc_nslots, rdcc_nbytes, rdcc_w0,\n\u001b[1;32m    556\u001b[0m                      locking, page_buf_size, min_meta_keep, min_raw_keep,\n\u001b[1;32m    557\u001b[0m                      alignment_threshold\u001b[38;5;241m=\u001b[39malignment_threshold,\n\u001b[1;32m    558\u001b[0m                      alignment_interval\u001b[38;5;241m=\u001b[39malignment_interval,\n\u001b[1;32m    559\u001b[0m                      meta_block_size\u001b[38;5;241m=\u001b[39mmeta_block_size,\n\u001b[1;32m    560\u001b[0m                      \u001b[38;5;241m*\u001b[39m\u001b[38;5;241m*\u001b[39mkwds)\n\u001b[1;32m    561\u001b[0m     fcpl \u001b[38;5;241m=\u001b[39m make_fcpl(track_order\u001b[38;5;241m=\u001b[39mtrack_order, fs_strategy\u001b[38;5;241m=\u001b[39mfs_strategy,\n\u001b[1;32m    562\u001b[0m                      fs_persist\u001b[38;5;241m=\u001b[39mfs_persist, fs_threshold\u001b[38;5;241m=\u001b[39mfs_threshold,\n\u001b[1;32m    563\u001b[0m                      fs_page_size\u001b[38;5;241m=\u001b[39mfs_page_size)\n\u001b[0;32m--> 564\u001b[0m     fid \u001b[38;5;241m=\u001b[39m \u001b[43mmake_fid\u001b[49m\u001b[43m(\u001b[49m\u001b[43mname\u001b[49m\u001b[43m,\u001b[49m\u001b[43m \u001b[49m\u001b[43mmode\u001b[49m\u001b[43m,\u001b[49m\u001b[43m \u001b[49m\u001b[43muserblock_size\u001b[49m\u001b[43m,\u001b[49m\u001b[43m \u001b[49m\u001b[43mfapl\u001b[49m\u001b[43m,\u001b[49m\u001b[43m \u001b[49m\u001b[43mfcpl\u001b[49m\u001b[43m,\u001b[49m\u001b[43m \u001b[49m\u001b[43mswmr\u001b[49m\u001b[38;5;241;43m=\u001b[39;49m\u001b[43mswmr\u001b[49m\u001b[43m)\u001b[49m\n\u001b[1;32m    566\u001b[0m \u001b[38;5;28;01mif\u001b[39;00m \u001b[38;5;28misinstance\u001b[39m(libver, \u001b[38;5;28mtuple\u001b[39m):\n\u001b[1;32m    567\u001b[0m     \u001b[38;5;28mself\u001b[39m\u001b[38;5;241m.\u001b[39m_libver \u001b[38;5;241m=\u001b[39m libver\n",
      "File \u001b[0;32m~/num_rel_env/lib/python3.10/site-packages/h5py/_hl/files.py:238\u001b[0m, in \u001b[0;36mmake_fid\u001b[0;34m(name, mode, userblock_size, fapl, fcpl, swmr)\u001b[0m\n\u001b[1;32m    236\u001b[0m     \u001b[38;5;28;01mif\u001b[39;00m swmr \u001b[38;5;129;01mand\u001b[39;00m swmr_support:\n\u001b[1;32m    237\u001b[0m         flags \u001b[38;5;241m|\u001b[39m\u001b[38;5;241m=\u001b[39m h5f\u001b[38;5;241m.\u001b[39mACC_SWMR_READ\n\u001b[0;32m--> 238\u001b[0m     fid \u001b[38;5;241m=\u001b[39m \u001b[43mh5f\u001b[49m\u001b[38;5;241;43m.\u001b[39;49m\u001b[43mopen\u001b[49m\u001b[43m(\u001b[49m\u001b[43mname\u001b[49m\u001b[43m,\u001b[49m\u001b[43m \u001b[49m\u001b[43mflags\u001b[49m\u001b[43m,\u001b[49m\u001b[43m \u001b[49m\u001b[43mfapl\u001b[49m\u001b[38;5;241;43m=\u001b[39;49m\u001b[43mfapl\u001b[49m\u001b[43m)\u001b[49m\n\u001b[1;32m    239\u001b[0m \u001b[38;5;28;01melif\u001b[39;00m mode \u001b[38;5;241m==\u001b[39m \u001b[38;5;124m'\u001b[39m\u001b[38;5;124mr+\u001b[39m\u001b[38;5;124m'\u001b[39m:\n\u001b[1;32m    240\u001b[0m     fid \u001b[38;5;241m=\u001b[39m h5f\u001b[38;5;241m.\u001b[39mopen(name, h5f\u001b[38;5;241m.\u001b[39mACC_RDWR, fapl\u001b[38;5;241m=\u001b[39mfapl)\n",
      "File \u001b[0;32mh5py/_objects.pyx:54\u001b[0m, in \u001b[0;36mh5py._objects.with_phil.wrapper\u001b[0;34m()\u001b[0m\n",
      "File \u001b[0;32mh5py/_objects.pyx:55\u001b[0m, in \u001b[0;36mh5py._objects.with_phil.wrapper\u001b[0;34m()\u001b[0m\n",
      "File \u001b[0;32mh5py/h5f.pyx:102\u001b[0m, in \u001b[0;36mh5py.h5f.open\u001b[0;34m()\u001b[0m\n",
      "\u001b[0;31mFileNotFoundError\u001b[0m: [Errno 2] Unable to synchronously open file (unable to open file: name = '/home/ludovicarbone/numerical-relativity/Einstein_Toolkit_Tutorials/Sod_1d_400/rho.x.h5', errno = 2, error message = 'No such file or directory', flags = 0, o_flags = 0)"
     ]
    }
   ],
   "source": [
    "rho_final = rho.read_on_grid(200, small_grid)"
   ]
  },
  {
   "cell_type": "code",
   "execution_count": null,
   "metadata": {},
   "outputs": [],
   "source": [
    "print(*rho_final.coordinates_meshgrid())"
   ]
  },
  {
   "cell_type": "code",
   "execution_count": 12,
   "metadata": {},
   "outputs": [
    {
     "data": {
      "image/png": "[encoded data removed]",
      "text/plain": [
       "<Figure size 432x288 with 1 Axes>"
      ]
     },
     "metadata": {
      "needs_background": "light"
     },
     "output_type": "display_data"
    }
   ],
   "source": [
    "plt.plot(*rho_final.coordinates_meshgrid(), rho_final.data_xyz, label=\"GRHydro\")\n",
    "plt.plot(x_exact, rho_exact, label=\"exact\")\n",
    "plt.xlim(-0.5, 0.5)\n",
    "#plt.ylim(0.1, 0.3)\n",
    "plt.legend()\n",
    "plt.show()"
   ]
  },
  {
   "cell_type": "markdown",
   "metadata": {},
   "source": [
    "## Alternative Method\n",
    "This method can only be used with simulations that used only one refinement level (i.e., a uniform grid) and using only 1 MPI process."
   ]
  },
  {
   "cell_type": "code",
   "execution_count": 13,
   "metadata": {},
   "outputs": [
    {
     "data": {
      "text/plain": [
       "array([1.   , 1.   , 1.   , 1.   , 1.   , 1.   , 1.   , 1.   , 1.   ,\n",
       "       1.   , 1.   , 1.   , 1.   , 1.   , 1.   , 1.   , 1.   , 1.   ,\n",
       "       1.   , 1.   , 1.   , 1.   , 1.   , 1.   , 1.   , 1.   , 1.   ,\n",
       "       1.   , 1.   , 1.   , 1.   , 1.   , 1.   , 1.   , 1.   , 1.   ,\n",
       "       1.   , 1.   , 1.   , 1.   , 1.   , 1.   , 1.   , 1.   , 1.   ,\n",
       "       1.   , 1.   , 1.   , 1.   , 1.   , 1.   , 1.   , 1.   , 1.   ,\n",
       "       1.   , 1.   , 1.   , 1.   , 1.   , 1.   , 1.   , 1.   , 1.   ,\n",
       "       1.   , 1.   , 1.   , 1.   , 1.   , 1.   , 1.   , 1.   , 1.   ,\n",
       "       1.   , 1.   , 1.   , 1.   , 1.   , 1.   , 1.   , 1.   , 1.   ,\n",
       "       1.   , 1.   , 1.   , 1.   , 1.   , 1.   , 1.   , 1.   , 1.   ,\n",
       "       1.   , 1.   , 1.   , 1.   , 1.   , 1.   , 1.   , 1.   , 1.   ,\n",
       "       1.   , 1.   , 1.   , 1.   , 1.   , 1.   , 1.   , 1.   , 1.   ,\n",
       "       1.   , 1.   , 1.   , 1.   , 1.   , 1.   , 1.   , 1.   , 1.   ,\n",
       "       1.   , 1.   , 1.   , 1.   , 1.   , 1.   , 1.   , 1.   , 1.   ,\n",
       "       1.   , 1.   , 1.   , 1.   , 1.   , 1.   , 1.   , 1.   , 1.   ,\n",
       "       1.   , 1.   , 1.   , 1.   , 1.   , 1.   , 1.   , 1.   , 1.   ,\n",
       "       1.   , 1.   , 1.   , 1.   , 1.   , 1.   , 1.   , 1.   , 1.   ,\n",
       "       1.   , 1.   , 1.   , 1.   , 1.   , 1.   , 1.   , 1.   , 1.   ,\n",
       "       1.   , 1.   , 1.   , 1.   , 1.   , 1.   , 1.   , 1.   , 1.   ,\n",
       "       1.   , 1.   , 1.   , 1.   , 1.   , 1.   , 1.   , 1.   , 1.   ,\n",
       "       1.   , 1.   , 1.   , 1.   , 1.   , 1.   , 1.   , 1.   , 1.   ,\n",
       "       1.   , 1.   , 1.   , 1.   , 1.   , 1.   , 1.   , 1.   , 1.   ,\n",
       "       1.   , 1.   , 0.125, 0.125, 0.125, 0.125, 0.125, 0.125, 0.125,\n",
       "       0.125, 0.125, 0.125, 0.125, 0.125, 0.125, 0.125, 0.125, 0.125,\n",
       "       0.125, 0.125, 0.125, 0.125, 0.125, 0.125, 0.125, 0.125, 0.125,\n",
       "       0.125, 0.125, 0.125, 0.125, 0.125, 0.125, 0.125, 0.125, 0.125,\n",
       "       0.125, 0.125, 0.125, 0.125, 0.125, 0.125, 0.125, 0.125, 0.125,\n",
       "       0.125, 0.125, 0.125, 0.125, 0.125, 0.125, 0.125, 0.125, 0.125,\n",
       "       0.125, 0.125, 0.125, 0.125, 0.125, 0.125, 0.125, 0.125, 0.125,\n",
       "       0.125, 0.125, 0.125, 0.125, 0.125, 0.125, 0.125, 0.125, 0.125,\n",
       "       0.125, 0.125, 0.125, 0.125, 0.125, 0.125, 0.125, 0.125, 0.125,\n",
       "       0.125, 0.125, 0.125, 0.125, 0.125, 0.125, 0.125, 0.125, 0.125,\n",
       "       0.125, 0.125, 0.125, 0.125, 0.125, 0.125, 0.125, 0.125, 0.125,\n",
       "       0.125, 0.125, 0.125, 0.125, 0.125, 0.125, 0.125, 0.125, 0.125,\n",
       "       0.125, 0.125, 0.125, 0.125, 0.125, 0.125, 0.125, 0.125, 0.125,\n",
       "       0.125, 0.125, 0.125, 0.125, 0.125, 0.125, 0.125, 0.125, 0.125,\n",
       "       0.125, 0.125, 0.125, 0.125, 0.125, 0.125, 0.125, 0.125, 0.125,\n",
       "       0.125, 0.125, 0.125, 0.125, 0.125, 0.125, 0.125, 0.125, 0.125,\n",
       "       0.125, 0.125, 0.125, 0.125, 0.125, 0.125, 0.125, 0.125, 0.125,\n",
       "       0.125, 0.125, 0.125, 0.125, 0.125, 0.125, 0.125, 0.125, 0.125,\n",
       "       0.125, 0.125, 0.125, 0.125, 0.125, 0.125, 0.125, 0.125, 0.125,\n",
       "       0.125, 0.125, 0.125, 0.125, 0.125, 0.125, 0.125, 0.125, 0.125,\n",
       "       0.125, 0.125, 0.125, 0.125, 0.125, 0.125, 0.125, 0.125, 0.125,\n",
       "       0.125, 0.125, 0.125, 0.125, 0.125, 0.125, 0.125, 0.125, 0.125,\n",
       "       0.125, 0.125, 0.125])"
      ]
     },
     "execution_count": 13,
     "metadata": {},
     "output_type": "execute_result"
    }
   ],
   "source": [
    "#[iterazione][refinement level][component number]\n",
    "rho[0][0][0].data"
   ]
  },
  {
   "cell_type": "code",
   "execution_count": 14,
   "metadata": {},
   "outputs": [
    {
     "data": {
      "text/plain": [
       "array([-0.4975, -0.495 , -0.4925, -0.49  , -0.4875, -0.485 , -0.4825,\n",
       "       -0.48  , -0.4775, -0.475 , -0.4725, -0.47  , -0.4675, -0.465 ,\n",
       "       -0.4625, -0.46  , -0.4575, -0.455 , -0.4525, -0.45  , -0.4475,\n",
       "       -0.445 , -0.4425, -0.44  , -0.4375, -0.435 , -0.4325, -0.43  ,\n",
       "       -0.4275, -0.425 , -0.4225, -0.42  , -0.4175, -0.415 , -0.4125,\n",
       "       -0.41  , -0.4075, -0.405 , -0.4025, -0.4   , -0.3975, -0.395 ,\n",
       "       -0.3925, -0.39  , -0.3875, -0.385 , -0.3825, -0.38  , -0.3775,\n",
       "       -0.375 , -0.3725, -0.37  , -0.3675, -0.365 , -0.3625, -0.36  ,\n",
       "       -0.3575, -0.355 , -0.3525, -0.35  , -0.3475, -0.345 , -0.3425,\n",
       "       -0.34  , -0.3375, -0.335 , -0.3325, -0.33  , -0.3275, -0.325 ,\n",
       "       -0.3225, -0.32  , -0.3175, -0.315 , -0.3125, -0.31  , -0.3075,\n",
       "       -0.305 , -0.3025, -0.3   , -0.2975, -0.295 , -0.2925, -0.29  ,\n",
       "       -0.2875, -0.285 , -0.2825, -0.28  , -0.2775, -0.275 , -0.2725,\n",
       "       -0.27  , -0.2675, -0.265 , -0.2625, -0.26  , -0.2575, -0.255 ,\n",
       "       -0.2525, -0.25  , -0.2475, -0.245 , -0.2425, -0.24  , -0.2375,\n",
       "       -0.235 , -0.2325, -0.23  , -0.2275, -0.225 , -0.2225, -0.22  ,\n",
       "       -0.2175, -0.215 , -0.2125, -0.21  , -0.2075, -0.205 , -0.2025,\n",
       "       -0.2   , -0.1975, -0.195 , -0.1925, -0.19  , -0.1875, -0.185 ,\n",
       "       -0.1825, -0.18  , -0.1775, -0.175 , -0.1725, -0.17  , -0.1675,\n",
       "       -0.165 , -0.1625, -0.16  , -0.1575, -0.155 , -0.1525, -0.15  ,\n",
       "       -0.1475, -0.145 , -0.1425, -0.14  , -0.1375, -0.135 , -0.1325,\n",
       "       -0.13  , -0.1275, -0.125 , -0.1225, -0.12  , -0.1175, -0.115 ,\n",
       "       -0.1125, -0.11  , -0.1075, -0.105 , -0.1025, -0.1   , -0.0975,\n",
       "       -0.095 , -0.0925, -0.09  , -0.0875, -0.085 , -0.0825, -0.08  ,\n",
       "       -0.0775, -0.075 , -0.0725, -0.07  , -0.0675, -0.065 , -0.0625,\n",
       "       -0.06  , -0.0575, -0.055 , -0.0525, -0.05  , -0.0475, -0.045 ,\n",
       "       -0.0425, -0.04  , -0.0375, -0.035 , -0.0325, -0.03  , -0.0275,\n",
       "       -0.025 , -0.0225, -0.02  , -0.0175, -0.015 , -0.0125, -0.01  ,\n",
       "       -0.0075, -0.005 , -0.0025,  0.    ,  0.0025,  0.005 ,  0.0075,\n",
       "        0.01  ,  0.0125,  0.015 ,  0.0175,  0.02  ,  0.0225,  0.025 ,\n",
       "        0.0275,  0.03  ,  0.0325,  0.035 ,  0.0375,  0.04  ,  0.0425,\n",
       "        0.045 ,  0.0475,  0.05  ,  0.0525,  0.055 ,  0.0575,  0.06  ,\n",
       "        0.0625,  0.065 ,  0.0675,  0.07  ,  0.0725,  0.075 ,  0.0775,\n",
       "        0.08  ,  0.0825,  0.085 ,  0.0875,  0.09  ,  0.0925,  0.095 ,\n",
       "        0.0975,  0.1   ,  0.1025,  0.105 ,  0.1075,  0.11  ,  0.1125,\n",
       "        0.115 ,  0.1175,  0.12  ,  0.1225,  0.125 ,  0.1275,  0.13  ,\n",
       "        0.1325,  0.135 ,  0.1375,  0.14  ,  0.1425,  0.145 ,  0.1475,\n",
       "        0.15  ,  0.1525,  0.155 ,  0.1575,  0.16  ,  0.1625,  0.165 ,\n",
       "        0.1675,  0.17  ,  0.1725,  0.175 ,  0.1775,  0.18  ,  0.1825,\n",
       "        0.185 ,  0.1875,  0.19  ,  0.1925,  0.195 ,  0.1975,  0.2   ,\n",
       "        0.2025,  0.205 ,  0.2075,  0.21  ,  0.2125,  0.215 ,  0.2175,\n",
       "        0.22  ,  0.2225,  0.225 ,  0.2275,  0.23  ,  0.2325,  0.235 ,\n",
       "        0.2375,  0.24  ,  0.2425,  0.245 ,  0.2475,  0.25  ,  0.2525,\n",
       "        0.255 ,  0.2575,  0.26  ,  0.2625,  0.265 ,  0.2675,  0.27  ,\n",
       "        0.2725,  0.275 ,  0.2775,  0.28  ,  0.2825,  0.285 ,  0.2875,\n",
       "        0.29  ,  0.2925,  0.295 ,  0.2975,  0.3   ,  0.3025,  0.305 ,\n",
       "        0.3075,  0.31  ,  0.3125,  0.315 ,  0.3175,  0.32  ,  0.3225,\n",
       "        0.325 ,  0.3275,  0.33  ,  0.3325,  0.335 ,  0.3375,  0.34  ,\n",
       "        0.3425,  0.345 ,  0.3475,  0.35  ,  0.3525,  0.355 ,  0.3575,\n",
       "        0.36  ,  0.3625,  0.365 ,  0.3675,  0.37  ,  0.3725,  0.375 ,\n",
       "        0.3775,  0.38  ,  0.3825,  0.385 ,  0.3875,  0.39  ,  0.3925,\n",
       "        0.395 ,  0.3975,  0.4   ,  0.4025,  0.405 ,  0.4075,  0.41  ,\n",
       "        0.4125,  0.415 ,  0.4175,  0.42  ,  0.4225,  0.425 ,  0.4275,\n",
       "        0.43  ,  0.4325,  0.435 ,  0.4375,  0.44  ,  0.4425,  0.445 ,\n",
       "        0.4475,  0.45  ,  0.4525,  0.455 ,  0.4575,  0.46  ,  0.4625,\n",
       "        0.465 ,  0.4675,  0.47  ,  0.4725,  0.475 ,  0.4775,  0.48  ,\n",
       "        0.4825,  0.485 ,  0.4875,  0.49  ,  0.4925,  0.495 ,  0.4975])"
      ]
     },
     "execution_count": 14,
     "metadata": {},
     "output_type": "execute_result"
    }
   ],
   "source": [
    "rho[0][0][0].coordinates()[0].data"
   ]
  },
  {
   "cell_type": "code",
   "execution_count": 15,
   "metadata": {},
   "outputs": [
    {
     "data": {
      "image/png": "[encoded data removed]",
      "text/plain": [
       "<Figure size 432x288 with 1 Axes>"
      ]
     },
     "metadata": {
      "needs_background": "light"
     },
     "output_type": "display_data"
    }
   ],
   "source": [
    "plt.plot(rho[200][0][0].coordinates()[0].data,rho[200][0][0].data, label=\"GRHydro\", marker='o')\n",
    "plt.plot(x_exact, rho_exact, label=\"exact\")\n",
    "plt.xlim(-0.5, 0.5)\n",
    "plt.legend()\n",
    "plt.show()"
   ]
  },
  {
   "cell_type": "code",
   "execution_count": null,
   "metadata": {},
   "outputs": [],
   "source": []
  }
 ],
 "metadata": {
  "kernelspec": {
   "display_name": "Python (num_rel_env)",
   "language": "python",
   "name": "num_rel_env"
  },
  "language_info": {
   "codemirror_mode": {
    "name": "ipython",
    "version": 3
   },
   "file_extension": ".py",
   "mimetype": "text/x-python",
   "name": "python",
   "nbconvert_exporter": "python",
   "pygments_lexer": "ipython3",
   "version": "3.10.12"
  }
 },
 "nbformat": 4,
 "nbformat_minor": 4
}
